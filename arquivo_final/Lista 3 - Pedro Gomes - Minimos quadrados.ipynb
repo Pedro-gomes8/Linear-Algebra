{
 "cells": [
  {
   "cell_type": "code",
   "execution_count": 8,
   "metadata": {},
   "outputs": [],
   "source": [
    "import numpy as np\n",
    "from math import sqrt"
   ]
  },
  {
   "cell_type": "markdown",
   "metadata": {},
   "source": [
    "### 1) Obtenha o polinômio de interpolação para o seguinte conjunto de pontos (x1,x2 ... xn)(y1,y2 ... yn):"
   ]
  },
  {
   "cell_type": "markdown",
   "metadata": {},
   "source": [
    " "
   ]
  },
  {
   "cell_type": "markdown",
   "metadata": {},
   "source": [
    "![title](imagens/questao1_1_lista3.jpg)"
   ]
  },
  {
   "cell_type": "markdown",
   "metadata": {},
   "source": [
    " "
   ]
  },
  {
   "cell_type": "markdown",
   "metadata": {},
   "source": [
    "### 2) Repita o exercício anterior inserindo mais o ponto (x,y) = (4,20)"
   ]
  },
  {
   "cell_type": "markdown",
   "metadata": {},
   "source": [
    " "
   ]
  },
  {
   "cell_type": "markdown",
   "metadata": {},
   "source": [
    " "
   ]
  },
  {
   "cell_type": "markdown",
   "metadata": {},
   "source": [
    "![title](imagens/questao2_1_lista3.jpg)"
   ]
  },
  {
   "cell_type": "markdown",
   "metadata": {},
   "source": [
    "![title](imagens/questao2_2_lista3.jpg)"
   ]
  },
  {
   "cell_type": "markdown",
   "metadata": {},
   "source": [
    "### 3) Ajuste uma função do tipo g(x) = b1.x^(b2) ao conjunto de pontos do ex 2"
   ]
  },
  {
   "cell_type": "markdown",
   "metadata": {},
   "source": [
    "![title](imagens/questao3_1_lista3.jpg)"
   ]
  },
  {
   "cell_type": "markdown",
   "metadata": {},
   "source": [
    "![title](imagens/questao3_2_lista3.jpg)"
   ]
  },
  {
   "cell_type": "markdown",
   "metadata": {},
   "source": [
    "### 4) Obtenha a função interpoladora utilizando o procedimento de Lagrange para os dados do exercicio 2\n"
   ]
  },
  {
   "cell_type": "markdown",
   "metadata": {},
   "source": [
    "![title](imagens/questao4_1_lista3.jpg)"
   ]
  },
  {
   "cell_type": "markdown",
   "metadata": {},
   "source": [
    "![title](imagens/questao4_2_lista3.jpg)"
   ]
  },
  {
   "cell_type": "markdown",
   "metadata": {},
   "source": [
    " "
   ]
  },
  {
   "cell_type": "markdown",
   "metadata": {},
   "source": [
    "### 5) Obtenha um polinômio quadrático que melhor se ajuste aos dados do exercício 2;"
   ]
  },
  {
   "cell_type": "markdown",
   "metadata": {},
   "source": [
    "![title](imagens/questao5_lista3.jpg)"
   ]
  },
  {
   "cell_type": "markdown",
   "metadata": {},
   "source": [
    "### 6) Obtenha o valor de y para x = 3.5 utilizando as funções interpoladas (ou ajustadas) nos cinco exercicios anteriores\n"
   ]
  },
  {
   "cell_type": "markdown",
   "metadata": {},
   "source": [
    " "
   ]
  },
  {
   "cell_type": "markdown",
   "metadata": {},
   "source": [
    "![title](imagens/questao6_lista3.jpg)"
   ]
  },
  {
   "cell_type": "markdown",
   "metadata": {},
   "source": [
    "### 7) Utilizando o método dos mínimos quadrados, obtenha os parâmetros a e b da equação que melhor ajustam esta equação ao conjunto de pontos observados.\n"
   ]
  },
  {
   "cell_type": "markdown",
   "metadata": {},
   "source": [
    " "
   ]
  },
  {
   "cell_type": "markdown",
   "metadata": {},
   "source": [
    "![title](imagens/questao7_lista3.jpg)"
   ]
  },
  {
   "cell_type": "markdown",
   "metadata": {},
   "source": [
    "### 8) Prepare um codigo minimos quadrados para obter parametros a e b de uma reta (regressao linear) a partir de pares de valores x,y fornecidos pelo usuario"
   ]
  },
  {
   "cell_type": "markdown",
   "metadata": {},
   "source": [
    "Pegando a funcao LU:"
   ]
  },
  {
   "cell_type": "code",
   "execution_count": 2,
   "metadata": {},
   "outputs": [],
   "source": [
    "def find_x(L,U,b): #FUNCAO QUE FAZ A SUBSTITUICAO PARA FRENTE E PARA TRAS, ENCONTRANDO VETOR X\n",
    "    #FORWARD SUBSTITUTION \n",
    "    # [L]y = {B}\n",
    "    \n",
    "    size = len(b)\n",
    "    y = np.array([[0] for i in range(size)], float) #inicializacao de Y (matriz composta de 0s)\n",
    "    for i in range(size):\n",
    "        somaj = sum(L[i,j] * y[j] for j in range(i))\n",
    "        y[i] = (b[i] - somaj)/L[i,i]\n",
    "        \n",
    "        \n",
    "    #BACKWARD SUBSTITUTION\n",
    "    # [U]{x} = y\n",
    "    x = np.array([[0] for i in range(size)], float) #inicializacao de X\n",
    "    for i in range(size-1,-1,-1):\n",
    "        somaj = sum(U[i,j]*x[j] for j in range(i+1,size))\n",
    "        x[i] = (y[i] - somaj)/U[i,i]\n",
    "    return x"
   ]
  },
  {
   "cell_type": "code",
   "execution_count": 3,
   "metadata": {},
   "outputs": [],
   "source": [
    "def fact_lu(a,b=None):\n",
    "\n",
    "    size = len(a)\n",
    "    a = np.array(a, float)\n",
    "    if b:\n",
    "        existe_b=True\n",
    "        b = np.array(b, float)\n",
    "    else:\n",
    "        existe_b=False\n",
    "    L = np.array([[0]*size for i in range(size)], float)\n",
    "\n",
    "    # PIVOTAMENTO\n",
    "    for k in range(size-1):\n",
    "        if abs(a[k, k]) < 1.0e-11:\n",
    "            for i in range(k+1, size):\n",
    "                if abs(a[i, k]) > abs(a[k, k]):\n",
    "                    a[[k, i]] = a[[i, k]] #Trocando linhas de lugar\n",
    "                    if existe_b:\n",
    "                        b[[k,i]] = b[[i,k]]\n",
    "                    break\n",
    "    U = np.copy(a)  # Inicializando U como a ja que U possui elementos de a\n",
    "    \n",
    "    # Definindo diagonal principal da matriz L\n",
    "    for i in range(size):\n",
    "        L[i, i] = 1\n",
    "\n",
    "    for k in range(size): # Definindo L e U\n",
    "        for i in range(k+1, size):\n",
    "            fator = a[i, k]/a[k, k]\n",
    "            L[i, k] = fator\n",
    "\n",
    "            for j in range(size):\n",
    "                a[i, j] = a[i, j] - fator*a[k, j]\n",
    "                U[i, j] = a[i, j]\n",
    "                \n",
    "    \n",
    "    x = None # Caso a funcao seja utilizada apenas para fazer a decomposicao\n",
    "    if existe_b: #Caso a funcao seja utilizada para resolver sistemas\n",
    "        x = find_x(L,U,b)\n",
    "        \n",
    "    #Checando se o numpy vai reclamar de divisao por 0, matriz singular.    \n",
    "    array_sum_L = np.sum(L)\n",
    "    array_sum_U = np.sum(U)\n",
    "    if (np.isnan(array_sum_L)) or (np.isnan(array_sum_U)):\n",
    "        print('Matriz singular')\n",
    "        return\n",
    "    return L, U, x\n"
   ]
  },
  {
   "cell_type": "markdown",
   "metadata": {},
   "source": [
    "## CRIANDO A FUNCAO DE MINIMOS QUADRADOS"
   ]
  },
  {
   "cell_type": "code",
   "execution_count": 6,
   "metadata": {},
   "outputs": [],
   "source": [
    "def minimos(*args):\n",
    "    '''Define a funcao y = b1 + b*x que minimiza o erro entre a reta de regressao\n",
    "    e os pontos experimentais'''\n",
    "    X = []\n",
    "    Y = []\n",
    "    for arg in args:\n",
    "        X.append(arg[0])\n",
    "        Y.append(arg[1])\n",
    "    numero_elementos = len(X)\n",
    "    A = np.array([[0, 0], [0, 0]], float)\n",
    "    C = np.array([[0], [0]], float)\n",
    "    A[0, 0] = numero_elementos\n",
    "    A[1, 0] = sum(x for x in X)\n",
    "    A[0, 1] = A[1, 0]\n",
    "    A[1, 1] = sum(x**2 for x in X)\n",
    "    C[0] = sum(y for y in Y)\n",
    "    C[1] = sum(X[i]*Y[i] for i in range(numero_elementos))\n",
    "    _,_,B = fact_lu(A.tolist(),C.tolist())\n",
    "    print(f'f(x) = {B[0]} + {B[1]}x')\n",
    "    return B"
   ]
  },
  {
   "cell_type": "markdown",
   "metadata": {},
   "source": [
    "#### Usando a funcao de minimos para resolver o exercicio 7 :"
   ]
  },
  {
   "cell_type": "code",
   "execution_count": 7,
   "metadata": {},
   "outputs": [
    {
     "name": "stdout",
     "output_type": "stream",
     "text": [
      "f(x) = [0.1] + [1.09]x\n"
     ]
    },
    {
     "data": {
      "text/plain": [
       "array([[0.1 ],\n",
       "       [1.09]])"
      ]
     },
     "execution_count": 7,
     "metadata": {},
     "output_type": "execute_result"
    }
   ],
   "source": [
    "minimos([1,1],[2,2.5],[3,3.5],[4,4.3])"
   ]
  }
 ],
 "metadata": {
  "kernelspec": {
   "display_name": "Python 3",
   "language": "python",
   "name": "python3"
  },
  "language_info": {
   "codemirror_mode": {
    "name": "ipython",
    "version": 3
   },
   "file_extension": ".py",
   "mimetype": "text/x-python",
   "name": "python",
   "nbconvert_exporter": "python",
   "pygments_lexer": "ipython3",
   "version": "3.7.7"
  }
 },
 "nbformat": 4,
 "nbformat_minor": 4
}
