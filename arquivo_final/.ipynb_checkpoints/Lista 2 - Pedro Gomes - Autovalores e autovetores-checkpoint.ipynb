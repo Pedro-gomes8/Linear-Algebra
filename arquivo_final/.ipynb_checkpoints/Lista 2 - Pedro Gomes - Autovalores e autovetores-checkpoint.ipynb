{
 "cells": [
  {
   "cell_type": "code",
   "execution_count": 1,
   "metadata": {},
   "outputs": [],
   "source": [
    "#IMPORTANDO BIBLIOTECAS NECESSARIAS\n",
    "import numpy as np \n",
    "from math import sqrt"
   ]
  },
  {
   "cell_type": "markdown",
   "metadata": {},
   "source": [
    "### 1) Desenvolva um código computacional para calcular o maior autovalor(abs) e o autovetor correspondente"
   ]
  },
  {
   "cell_type": "markdown",
   "metadata": {},
   "source": [
    " "
   ]
  },
  {
   "cell_type": "code",
   "execution_count": null,
   "metadata": {},
   "outputs": [],
   "source": [
    "def power_method(a, max_iter=100, tolerancia=1.0e-3):\n",
    "    \"\"\"Calcula o maior autovalor (em modulo) e seu autovetor correspondente atraves do power method\"\"\"\n",
    "    size = len(a)\n",
    "    a = np.array(a, float)\n",
    "    x = np.array(([[1]]*size), float)\n",
    "    y = np.array(([[0]]*size), float)\n",
    "    h_anterior = 1  # iniciando-o como 1\n",
    "    for iteracao in range(max_iter):\n",
    "        print(\n",
    "            f'iteracao: {iteracao+1} \\n autovalor atual: {h_anterior}')\n",
    "        toleravel = True\n",
    "        for i in range(size):\n",
    "            y[i] = sum(a[i, j]*x[j] for j in range(size))\n",
    "        h = y[0]\n",
    "        print(h)\n",
    "        y = y/h\n",
    "        print(y)\n",
    "        R = abs(h - h_anterior)/abs(h)\n",
    "        print(f'R : {R}')\n",
    "        if R > tolerancia:\n",
    "            toleravel = False\n",
    "\n",
    "        if toleravel:\n",
    "            return float(h), y\n",
    "\n",
    "        x = np.copy(y)\n",
    "        h_anterior = h\n",
    "\n"
   ]
  },
  {
   "cell_type": "markdown",
   "metadata": {},
   "source": [
    "### 2) Desenvolva um código para cálculo dos autovalores e autovetores de uma matriz A simétrica através do Método de Jacobi;"
   ]
  },
  {
   "cell_type": "markdown",
   "metadata": {},
   "source": [
    " "
   ]
  },
  {
   "cell_type": "code",
   "execution_count": 2,
   "metadata": {},
   "outputs": [],
   "source": [
    "def multiplica_matriz(a, b):\n",
    "    size = len(a)\n",
    "    c = np.array([[0]*len(a) for i in range(len(a))], float)\n",
    "    for i in range(size):\n",
    "        for j in range(size):\n",
    "            c[i, j] = sum(a[i, k]*b[k, j] for k in range(size))\n",
    "\n",
    "    return c\n",
    "\n",
    "def simetrica(a): #Condicao para Eigen_Jacob\n",
    "    '''Funcao que determina se a matriz A e simetrica.\n",
    "    Retorna True se sim, False caso contrario.'''\n",
    "    a = np.array(a,float)\n",
    "    size = len(a)\n",
    "    for i in range(size):\n",
    "        for j in range(size):\n",
    "            if a[i,j] != a[j,i]:\n",
    "                return False\n",
    "    return True\n",
    "\n",
    "def transposta(a):\n",
    "    size = len(a)\n",
    "    c = np.array([[0]*len(a) for i in range(len(a))], float)\n",
    "    for i in range(size):\n",
    "        for j in range(size):\n",
    "            c[i, j] = a[j, i]\n",
    "    return c\n",
    "\n",
    "\n",
    "def eigen_jacob(a, max_iter=100, tolerancia=1.0e-3):\n",
    "    size = len(a)\n",
    "    if not simetrica(a):\n",
    "        print('Esse metodo so serve para matrizes simetricas')\n",
    "        return \n",
    "    a = np.array(a, float)\n",
    "    # Criando matriz identidade inicial X\n",
    "    x = np.array([[0]*size for i in range(size)], float)\n",
    "    for i in range(size):\n",
    "        x[i, i] = 1\n",
    "\n",
    "    p_inicial = np.copy(x)\n",
    "\n",
    "    for iteration in range(max_iter):\n",
    "        #Matriz P sendo inicializada como identidade a cada iteration\n",
    "        p = np.copy(p_inicial)\n",
    "        #DESCOBRINDO MAIOR VALOR E SUA POSICAO\n",
    "        maior_valor = 0\n",
    "        for i in range(size):\n",
    "            for j in [z for z in range(size) if z != i]:\n",
    "                if abs(a[i, j]) > abs(maior_valor):\n",
    "                    linha = i\n",
    "                    coluna = j\n",
    "                    maior_valor = a[i, j]\n",
    "\n",
    "        if abs(maior_valor) <= tolerancia: #Se o maior valor for toleravel, a funcao retorna os autovalores e autovetores\n",
    "            print(f\"Numero de iteracoes: {iteration+1}\")\n",
    "            auto_valores = [a[i, i] for i in range(len(a))]\n",
    "            return auto_valores, x\n",
    "\n",
    "        if a[linha, linha] == a[coluna, coluna]:\n",
    "            phi = np.pi/4.0\n",
    "        else:\n",
    "            fracao = 2.0*maior_valor/(a[linha, linha]-a[coluna, coluna])\n",
    "            phi = np.arctan(fracao)/2\n",
    "            \n",
    "        #Calculando seno e cos PHI\n",
    "        seno_phi = np.sin(phi)\n",
    "        cos_phi = np.cos(phi)\n",
    "        p[linha, coluna] = -seno_phi\n",
    "        p[coluna, linha] = seno_phi\n",
    "        p[linha, linha] = cos_phi\n",
    "        p[coluna, coluna] = cos_phi\n",
    "        \n",
    "        transp = transposta(p)\n",
    "        x = multiplica_matriz(x, p)\n",
    "        trans_vezes_a = multiplica_matriz(transp, a)\n",
    "        a = multiplica_matriz(trans_vezes_a, p)"
   ]
  },
  {
   "cell_type": "markdown",
   "metadata": {},
   "source": [
    " \n",
    " "
   ]
  },
  {
   "cell_type": "markdown",
   "metadata": {},
   "source": [
    "### 3) Seja o seguinte sistema de Equações:"
   ]
  },
  {
   "cell_type": "code",
   "execution_count": 3,
   "metadata": {},
   "outputs": [],
   "source": [
    "Ex3_matrizA = [[3,2,0],[2,3,-1],[0,-1,3]]\n",
    "Ex3_matrizB = [[1],[-1],[1]]"
   ]
  },
  {
   "cell_type": "markdown",
   "metadata": {},
   "source": [
    " "
   ]
  },
  {
   "cell_type": "markdown",
   "metadata": {},
   "source": [
    "a) Usando o polinômio determinístico, calcule os autovalores e autovetores exatos da matriz A:"
   ]
  },
  {
   "cell_type": "markdown",
   "metadata": {},
   "source": [
    "![title](imagens/questao3a_1_lista2.jpg)"
   ]
  },
  {
   "cell_type": "markdown",
   "metadata": {},
   "source": [
    "![title](imagens/correcao.jpg)"
   ]
  },
  {
   "cell_type": "markdown",
   "metadata": {},
   "source": [
    "![title](imagens/questao3a_3_lista2.jpg)"
   ]
  },
  {
   "cell_type": "markdown",
   "metadata": {},
   "source": [
    "![title](imagens/questao3c_1_lista2.jpg)"
   ]
  },
  {
   "cell_type": "markdown",
   "metadata": {},
   "source": [
    "![title](imagens/questao3c_2_lista2.jpg)"
   ]
  },
  {
   "cell_type": "markdown",
   "metadata": {},
   "source": [
    "![title](imagens/questao3d_1_lista2.jpg)"
   ]
  },
  {
   "cell_type": "markdown",
   "metadata": {},
   "source": [
    "![title](imagens/questao3d_2_lista2.jpg)"
   ]
  },
  {
   "cell_type": "markdown",
   "metadata": {},
   "source": [
    "![title](imagens/questao3d_3_lista2.jpg)"
   ]
  },
  {
   "cell_type": "markdown",
   "metadata": {},
   "source": [
    "![title](imagens/questao3e_1_lista2.jpg)"
   ]
  },
  {
   "cell_type": "markdown",
   "metadata": {},
   "source": [
    "![title](imagens/questao3e_2_lista2.jpg)"
   ]
  },
  {
   "cell_type": "markdown",
   "metadata": {},
   "source": [
    "![title](imagens/questao3e_3_lista2.jpg)"
   ]
  },
  {
   "cell_type": "markdown",
   "metadata": {},
   "source": [
    "![title](imagens/questao3e_4_lista2.jpg)"
   ]
  },
  {
   "cell_type": "markdown",
   "metadata": {},
   "source": [
    "![title](imagens/questao3e_5_lista2.jpg)"
   ]
  },
  {
   "cell_type": "markdown",
   "metadata": {},
   "source": [
    "![title](imagens/questao3e_6_lista2.jpg)"
   ]
  },
  {
   "cell_type": "markdown",
   "metadata": {},
   "source": [
    "![title](imagens/questao3e_7_lista2.jpg)"
   ]
  }
 ],
 "metadata": {
  "kernelspec": {
   "display_name": "Python 3",
   "language": "python",
   "name": "python3"
  },
  "language_info": {
   "codemirror_mode": {
    "name": "ipython",
    "version": 3
   },
   "file_extension": ".py",
   "mimetype": "text/x-python",
   "name": "python",
   "nbconvert_exporter": "python",
   "pygments_lexer": "ipython3",
   "version": "3.7.7"
  }
 },
 "nbformat": 4,
 "nbformat_minor": 4
}
