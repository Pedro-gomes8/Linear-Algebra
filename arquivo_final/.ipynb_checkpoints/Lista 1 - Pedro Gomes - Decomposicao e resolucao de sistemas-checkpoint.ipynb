{
 "cells": [
  {
   "cell_type": "code",
   "execution_count": 1,
   "metadata": {},
   "outputs": [],
   "source": [
    "#IMPORTANDO AS BIBLIOTECAS NECESSARIAS\n",
    "import numpy as np\n",
    "from math import sqrt"
   ]
  },
  {
   "cell_type": "markdown",
   "metadata": {},
   "source": [
    "##### 1) Resolva manualmente o sistema de equações do exercício 4 montando todas as matrizes de\n",
    "##### combinação de linhas necessárias."
   ]
  },
  {
   "cell_type": "markdown",
   "metadata": {},
   "source": [
    "![title](imagens/questao1_lista1.jpg)"
   ]
  },
  {
   "cell_type": "markdown",
   "metadata": {},
   "source": [
    " "
   ]
  },
  {
   "cell_type": "markdown",
   "metadata": {},
   "source": [
    "### 2) Prepare um rotina computacional (na linguagem de sua preferência) para efetuar:"
   ]
  },
  {
   "cell_type": "markdown",
   "metadata": {},
   "source": [
    "a) a decomposição LU ou a de Cholesky de uma matriz genérica A quadrada de ordem n\n",
    "(prepare as mesmas para indicar casos onde as decomposições não são possíveis);"
   ]
  },
  {
   "cell_type": "markdown",
   "metadata": {},
   "source": [
    " "
   ]
  },
  {
   "cell_type": "markdown",
   "metadata": {},
   "source": [
    " ##### DECOMPOSICAO CHOLESKY"
   ]
  },
  {
   "cell_type": "code",
   "execution_count": 2,
   "metadata": {},
   "outputs": [],
   "source": [
    "def simetrica(a): #CONDICAO PARA CHOLESKY\n",
    "    '''Funcao que determina se a matriz A e simetrica.\n",
    "    Retorna True se sim, False caso contrario.'''\n",
    "    a = np.array(a,float)\n",
    "    size = len(a)\n",
    "    for i in range(size):\n",
    "        for j in range(size):\n",
    "            if a[i,j] != a[j,i]:\n",
    "                return False\n",
    "    return True\n"
   ]
  },
  {
   "cell_type": "code",
   "execution_count": 3,
   "metadata": {},
   "outputs": [],
   "source": [
    "def cholesky_decomp(a):\n",
    "    ''' Aplicavel quando a matriz e positiva definida e simetrica'''\n",
    "    if not simetrica(a):\n",
    "        print(\"Nao e possivel utilizar cholesky pois a matriz nao e simetrica\")\n",
    "        return\n",
    "    \n",
    "    size = len(a)\n",
    "    a = np.array(a, float)\n",
    "    # Criando uma matriz L de zeros\n",
    "    L = np.array([[0]*size for i in range(size)], float)\n",
    "\n",
    "    for j in range(size): #Observacao por coluna\n",
    "        for i in range(j, size):\n",
    "            if i == j:  # Se o elemento esta na diagonal principal\n",
    "                somak = sum(L[i, k]**2 for k in range(j))\n",
    "                try:\n",
    "                    L[i, j] = sqrt(a[i, j] - somak)\n",
    "                except Exception as e:  #Verifica se o termo da raiz e negativo\n",
    "                    print(e)\n",
    "                    print(\"A matriz nao e positiva definida\")\n",
    "                    return\n",
    "            else:\n",
    "                somak = sum(L[i, k]*L[j, k] for k in range(j))\n",
    "                L[i, j] = (a[i, j] - somak)/L[j, j]\n",
    "\n",
    "    # Se temos L, e possivel encontrar U atraves da transposta de L\n",
    "    U = np.array([[L[j, i] for j in range(size)]\n",
    "                  for i in range(size)], float)  # Fazendo transposta de L\n",
    "    return L, U"
   ]
  },
  {
   "cell_type": "markdown",
   "metadata": {},
   "source": [
    "#### DECOMPOSICAO E SOLUCAO POR LU"
   ]
  },
  {
   "cell_type": "code",
   "execution_count": 4,
   "metadata": {},
   "outputs": [],
   "source": [
    "def find_x(L,U,b): #FUNCAO QUE FAZ A SUBSTITUICAO PARA FRENTE E PARA TRAS, ENCONTRANDO VETOR X\n",
    "    #FORWARD SUBSTITUTION \n",
    "    # [L]y = {B}\n",
    "    \n",
    "    size = len(b)\n",
    "    y = np.array([[0] for i in range(size)], float) #inicializacao de Y (matriz composta de 0s)\n",
    "    for i in range(size):\n",
    "        somaj = sum(L[i,j] * y[j] for j in range(i))\n",
    "        y[i] = (b[i] - somaj)/L[i,i]\n",
    "        \n",
    "        \n",
    "    #BACKWARD SUBSTITUTION\n",
    "    # [U]{x} = y\n",
    "    x = np.array([[0] for i in range(size)], float) #inicializacao de X\n",
    "    for i in range(size-1,-1,-1):\n",
    "        somaj = sum(U[i,j]*x[j] for j in range(i+1,size))\n",
    "        x[i] = (y[i] - somaj)/U[i,i]\n",
    "    return x"
   ]
  },
  {
   "cell_type": "code",
   "execution_count": 5,
   "metadata": {},
   "outputs": [],
   "source": [
    "def fact_lu(a,b=None):\n",
    "\n",
    "    size = len(a)\n",
    "    a = np.array(a, float)\n",
    "    if b:\n",
    "        existe_b=True\n",
    "        b = np.array(b, float)\n",
    "    else:\n",
    "        existe_b=False\n",
    "    L = np.array([[0]*size for i in range(size)], float)\n",
    "\n",
    "    # PIVOTAMENTO\n",
    "    for k in range(size-1):\n",
    "        if abs(a[k, k]) < 1.0e-11:\n",
    "            for i in range(k+1, size):\n",
    "                if abs(a[i, k]) > abs(a[k, k]):\n",
    "                    a[[k, i]] = a[[i, k]] #Trocando linhas de lugar\n",
    "                    if existe_b:\n",
    "                        b[[k,i]] = b[[i,k]]\n",
    "                    break\n",
    "    U = np.copy(a)  # Inicializando U como a ja que U possui elementos de a\n",
    "    \n",
    "    # Definindo diagonal principal da matriz L\n",
    "    for i in range(size):\n",
    "        L[i, i] = 1\n",
    "\n",
    "    for k in range(size): # Definindo L e U\n",
    "        for i in range(k+1, size):\n",
    "            fator = a[i, k]/a[k, k]\n",
    "            L[i, k] = fator\n",
    "\n",
    "            for j in range(size):\n",
    "                a[i, j] = a[i, j] - fator*a[k, j]\n",
    "                U[i, j] = a[i, j]\n",
    "                \n",
    "    \n",
    "    x = None # Caso a funcao seja utilizada apenas para fazer a decomposicao\n",
    "    if existe_b: #Caso a funcao seja utilizada para resolver sistemas\n",
    "        x = find_x(L,U,b)\n",
    "        \n",
    "    #Checando se o numpy vai reclamar de divisao por 0, matriz singular.    \n",
    "    array_sum_L = np.sum(L)\n",
    "    array_sum_U = np.sum(U)\n",
    "    if (np.isnan(array_sum_L)) or (np.isnan(array_sum_U)):\n",
    "        print('Matriz singular')\n",
    "        return\n",
    "    return L, U, x\n"
   ]
  },
  {
   "cell_type": "markdown",
   "metadata": {},
   "source": [
    "   #### b) Resolver um sistema AX = B; "
   ]
  },
  {
   "cell_type": "markdown",
   "metadata": {},
   "source": [
    "A solucao e opcional na decomposicao LU, o codigo a seguir corresponde chama a descomposicao de cholesky e tenta resolver o sistema atraves do mesmo metodo que LU utiliza (substituicao pra frente e retro-substituicao)"
   ]
  },
  {
   "cell_type": "code",
   "execution_count": 6,
   "metadata": {},
   "outputs": [],
   "source": [
    "def cholesky_findx(a,b): # FUNCAO QUE OBTEM DECOMPOSICAO CHOLESKY E DESCOBRE VALOR DE X!!!!!!\n",
    "\n",
    "    try:\n",
    "        L,U = cholesky_decomp(a)\n",
    "    except Exception:\n",
    "        print(\"Por favor, garanta que sua matriz seja positiva definida e simetrica\")\n",
    "        return\n",
    "    size = len(b)\n",
    "    b = np.array(b,float)\n",
    "        \n",
    "    return find_x(L,U,b)\n",
    "    "
   ]
  },
  {
   "cell_type": "markdown",
   "metadata": {},
   "source": [
    "#### c) Calcular o determinante de A."
   ]
  },
  {
   "cell_type": "code",
   "execution_count": 7,
   "metadata": {},
   "outputs": [],
   "source": [
    "def determinante(a):\n",
    "    \"\"\"Decompoe a matriz 'a' em LU e usa-se a propriedade det(A*B) = det(A)*det(B)\"\"\"\n",
    "    try:\n",
    "        L,U,_ = fact_lu(a)\n",
    "    except Exception:\n",
    "        return 0\n",
    "    det = 1\n",
    "    for i in range(len(a)):\n",
    "        det*=U[i,i] \n",
    "    return det\n",
    "        # Como o determinante de uma matriz triangular e o produto de sua diagonal principal,\n",
    "        # L tendo diagonal composta de 1's, det(a) sera igual ao produto dos elementos da \n",
    "        # diagonal principal de U \n",
    "        "
   ]
  },
  {
   "cell_type": "markdown",
   "metadata": {},
   "source": [
    "### 3)Desenvolva rotinas computacionais para solução de sistemas de equações lineares quadrados pelos procedimentos iterativos: Jacobi e Gauss-Seidel"
   ]
  },
  {
   "cell_type": "markdown",
   "metadata": {},
   "source": [
    "#### JACOBI"
   ]
  },
  {
   "cell_type": "code",
   "execution_count": 8,
   "metadata": {},
   "outputs": [],
   "source": [
    "def jacobi(a, b, iteration_limit=100, tolerancia=1.0e-4):\n",
    "    size = len(b)\n",
    "    a = np.array(a, float)\n",
    "    b = np.array(b, float)\n",
    "    x = np.array([[1]]*size, float)\n",
    "    xnew = np.array([[0]]*size, float)\n",
    "\n",
    "    for i in range(size):\n",
    "        if (abs(a[i, i]) < sum(abs(a[i, j]) for j in range(size) if j != i)) or (abs(a[i, i]) < sum(abs(a[j, i]) for j in range(size) if j != i)):\n",
    "            print(\"condicao de convergencia nao obedecida. A matriz deve ser diagonal dominante!\")\n",
    "            return -1\n",
    "\n",
    "    for iteration in range(iteration_limit):\n",
    "        print(f'iteration: {iteration+1} \\n X atual = {x}')\n",
    "        convergencia = True  #ASSUME CONVERGENCIA\n",
    "        for i in range(size):\n",
    "            somaj = 0\n",
    "            for j in range(size):\n",
    "                if j != i:\n",
    "                    somaj += a[i, j]*x[j]\n",
    "            xnew[i] = (b[i] - somaj)/a[i, i]\n",
    "\n",
    "\n",
    "        R = sqrt(sum((xnew[i] - x[i])**2 for i in range(size))\n",
    "                 )/sqrt(sum(xnew[i]**2 for i in range(size)))\n",
    "        print(R)\n",
    "        if R > tolerancia: #SE RESIDUO FOR MAIOR QUE TOLERANCIA, CONVERGENCIA PASSA A SER False\n",
    "            convergencia = False\n",
    "\n",
    "        if convergencia:\n",
    "            print('CONVERGEEE!')\n",
    "            print(xnew)\n",
    "            return xnew\n",
    "\n",
    "        x = np.copy(xnew)\n",
    "\n",
    "    print('Nao foi possivel alcancar convergencia com os parametros escolhidos.')\n",
    "    return"
   ]
  },
  {
   "cell_type": "markdown",
   "metadata": {},
   "source": [
    "#### GAUSS-SEIDEL \n",
    "Parecido com o metodo de Jacobi, entretanto X e atualizado a cada X_i descoberto"
   ]
  },
  {
   "cell_type": "code",
   "execution_count": 9,
   "metadata": {},
   "outputs": [],
   "source": [
    "def seidel(a, b, iter_limit=100, tolerancia=1.0e-4):\n",
    "    size = len(b)\n",
    "    a = np.array(a, float)\n",
    "    b = np.array(b, float)\n",
    "    x = np.array([[1]]*size, float)\n",
    "\n",
    "    for i in range(size):\n",
    "        if (abs(a[i, i]) < sum(abs(a[i, j]) for j in range(size) if j != i)) or (abs(a[i, i]) < sum(abs(a[j, i]) for j in range(size) if j != i)):\n",
    "            print(\n",
    "                \"Condicao de convergencia nao obedecida. A matriz deve ser diagonal dominante!\")\n",
    "            return\n",
    "\n",
    "    for iteration in range(iter_limit):\n",
    "        convergencia = True\n",
    "        tmp = np.copy(x)   #guarda o x 'anterior'\n",
    "        print(f'Iteracao: {iteration}\\n X atual: {x}')\n",
    "        for i in range(size):\n",
    "            somaj = sum(a[i, j]*x[j]for j in range(size) if j != i)\n",
    "            x[i] = (b[i] - somaj)/a[i, i]\n",
    "\n",
    "        R = sqrt(sum((x[i] - tmp[i])**2 for i in range(size))\n",
    "                 )/sqrt(sum(x[i]**2 for i in range(size)))\n",
    "\n",
    "        if R > tolerancia:\n",
    "            convergencia = False\n",
    "\n",
    "        if convergencia:\n",
    "            print('CONVERGE')\n",
    "            print(R)\n",
    "            return x\n",
    "        \n",
    "    print('Nao foi possivel alcancar convergencia com os parametros escolhidos.')\n",
    "    return\n"
   ]
  },
  {
   "cell_type": "markdown",
   "metadata": {},
   "source": [
    "### 4) Seja o sistema de equações lineares AX = B, onde:"
   ]
  },
  {
   "cell_type": "code",
   "execution_count": 10,
   "metadata": {},
   "outputs": [],
   "source": [
    "exercicio4_A = [[5,-4,1,0],[-4,6,-4,1],[1,-4,6,-4],[0,1,-4,5]]\n",
    "exercicio4_B = [[-1],[2],[1],[3]]"
   ]
  },
  {
   "cell_type": "markdown",
   "metadata": {},
   "source": [
    "Resolvendo por LU :"
   ]
  },
  {
   "cell_type": "code",
   "execution_count": 11,
   "metadata": {
    "scrolled": false
   },
   "outputs": [
    {
     "data": {
      "text/plain": [
       "(array([[ 1.        ,  0.        ,  0.        ,  0.        ],\n",
       "        [-0.8       ,  1.        ,  0.        ,  0.        ],\n",
       "        [ 0.2       , -1.14285714,  1.        ,  0.        ],\n",
       "        [ 0.        ,  0.35714286, -1.33333333,  1.        ]]),\n",
       " array([[ 5.        , -4.        ,  1.        ,  0.        ],\n",
       "        [ 0.        ,  2.8       , -3.2       ,  1.        ],\n",
       "        [ 0.        ,  0.        ,  2.14285714, -2.85714286],\n",
       "        [ 0.        ,  0.        ,  0.        ,  0.83333333]]),\n",
       " array([[ 5.8],\n",
       "        [10.2],\n",
       "        [10.8],\n",
       "        [ 7.2]]))"
      ]
     },
     "execution_count": 11,
     "metadata": {},
     "output_type": "execute_result"
    }
   ],
   "source": [
    "fact_lu(exercicio4_A,exercicio4_B)"
   ]
  },
  {
   "cell_type": "markdown",
   "metadata": {},
   "source": [
    " "
   ]
  },
  {
   "cell_type": "markdown",
   "metadata": {},
   "source": [
    "Resolvendo por Cholesky:"
   ]
  },
  {
   "cell_type": "code",
   "execution_count": 12,
   "metadata": {
    "scrolled": true
   },
   "outputs": [
    {
     "data": {
      "text/plain": [
       "array([[ 5.8],\n",
       "       [10.2],\n",
       "       [10.8],\n",
       "       [ 7.2]])"
      ]
     },
     "execution_count": 12,
     "metadata": {},
     "output_type": "execute_result"
    }
   ],
   "source": [
    "cholesky_findx(exercicio4_A,exercicio4_B)"
   ]
  },
  {
   "cell_type": "markdown",
   "metadata": {},
   "source": [
    " "
   ]
  },
  {
   "cell_type": "markdown",
   "metadata": {},
   "source": [
    "Resolvendo por Jacobi:"
   ]
  },
  {
   "cell_type": "code",
   "execution_count": 13,
   "metadata": {},
   "outputs": [
    {
     "name": "stdout",
     "output_type": "stream",
     "text": [
      "condicao de convergencia nao obedecida. A matriz deve ser diagonal dominante!\n"
     ]
    },
    {
     "data": {
      "text/plain": [
       "-1"
      ]
     },
     "execution_count": 13,
     "metadata": {},
     "output_type": "execute_result"
    }
   ],
   "source": [
    "jacobi(exercicio4_A,exercicio4_B)"
   ]
  },
  {
   "cell_type": "markdown",
   "metadata": {},
   "source": [
    " "
   ]
  },
  {
   "cell_type": "markdown",
   "metadata": {},
   "source": [
    "Resolvendo por Gauss-Seidel:"
   ]
  },
  {
   "cell_type": "code",
   "execution_count": 14,
   "metadata": {},
   "outputs": [
    {
     "name": "stdout",
     "output_type": "stream",
     "text": [
      "Condicao de convergencia nao obedecida. A matriz deve ser diagonal dominante!\n"
     ]
    }
   ],
   "source": [
    "seidel(exercicio4_A,exercicio4_B)"
   ]
  },
  {
   "cell_type": "markdown",
   "metadata": {},
   "source": [
    "## Exercicio 5\n"
   ]
  },
  {
   "cell_type": "code",
   "execution_count": 15,
   "metadata": {},
   "outputs": [],
   "source": [
    "exercicio5_A = [[19,9,8,7,6,5,4,3,2,1],\n",
    "    [9,17,9,8,7,6,5,4,3,2],\n",
    "    [8,9,18,9,8,7,6,5,4,3],\n",
    "    [7,8,9,19,9,8,7,6,5,4],\n",
    "    [6,7,8,9,18,9,8,7,6,5],\n",
    "    [5,6,7,8,9,17,9,8,7,6],\n",
    "    [4,5,6,7,8,9,16,9,8,7],\n",
    "    [3,4,5,6,7,8,9,15,9,8],\n",
    "    [2,3,4,5,6,7,8,9,14,9],\n",
    "    [1,2,3,4,5,6,7,8,9,13]]\n",
    "exercicio5_b=[[4],\n",
    "  [0],\n",
    "  [8],\n",
    "  [0],\n",
    "  [12],\n",
    "  [0],\n",
    "  [8],\n",
    "  [0],\n",
    "  [4],\n",
    "  [0]]"
   ]
  },
  {
   "cell_type": "code",
   "execution_count": 16,
   "metadata": {
    "scrolled": false
   },
   "outputs": [
    {
     "data": {
      "text/plain": [
       "array([[ 0.12520609],\n",
       "       [-0.4269184 ],\n",
       "       [ 0.50530635],\n",
       "       [-0.43511744],\n",
       "       [ 0.90690005],\n",
       "       [-0.53710601],\n",
       "       [ 0.69185056],\n",
       "       [-0.51087001],\n",
       "       [ 0.42961414],\n",
       "       [-0.38316953]])"
      ]
     },
     "execution_count": 16,
     "metadata": {},
     "output_type": "execute_result"
    }
   ],
   "source": [
    "cholesky_findx(exercicio5_A,exercicio5_b)"
   ]
  },
  {
   "cell_type": "code",
   "execution_count": 17,
   "metadata": {
    "scrolled": true
   },
   "outputs": [
    {
     "data": {
      "text/plain": [
       "array([[ 0.12520609],\n",
       "       [-0.4269184 ],\n",
       "       [ 0.50530635],\n",
       "       [-0.43511744],\n",
       "       [ 0.90690005],\n",
       "       [-0.53710601],\n",
       "       [ 0.69185056],\n",
       "       [-0.51087001],\n",
       "       [ 0.42961414],\n",
       "       [-0.38316953]])"
      ]
     },
     "execution_count": 17,
     "metadata": {},
     "output_type": "execute_result"
    }
   ],
   "source": [
    "_,_,x = fact_lu(exercicio5_A,exercicio5_b)\n",
    "x"
   ]
  },
  {
   "cell_type": "code",
   "execution_count": 18,
   "metadata": {
    "scrolled": false
   },
   "outputs": [
    {
     "data": {
      "text/plain": [
       "26441350592.000034"
      ]
     },
     "execution_count": 18,
     "metadata": {},
     "output_type": "execute_result"
    }
   ],
   "source": [
    "determinante(exercicio5_A)"
   ]
  }
 ],
 "metadata": {
  "kernelspec": {
   "display_name": "Python 3",
   "language": "python",
   "name": "python3"
  },
  "language_info": {
   "codemirror_mode": {
    "name": "ipython",
    "version": 3
   },
   "file_extension": ".py",
   "mimetype": "text/x-python",
   "name": "python",
   "nbconvert_exporter": "python",
   "pygments_lexer": "ipython3",
   "version": "3.7.7"
  }
 },
 "nbformat": 4,
 "nbformat_minor": 4
}
