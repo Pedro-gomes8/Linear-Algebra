{
 "cells": [
  {
   "cell_type": "code",
   "execution_count": 1,
   "metadata": {},
   "outputs": [],
   "source": [
    "import numpy as np\n",
    "from math import sqrt"
   ]
  },
  {
   "cell_type": "code",
   "execution_count": 2,
   "metadata": {},
   "outputs": [],
   "source": [
    "def cholesky_decomp(a):\n",
    "    ''' Aplicavel quando a matriz e positiva definida e simetrica'''\n",
    "    # if not simetrica(a):\n",
    "    # return \"Nao e possivel utilizar cholesky pois a matriz nao e simetrica\"\n",
    "    # if not posdef(a):\n",
    "    # return \"Nao e possivel utilizar cholesky pois a matriz nao e positiva definida\"\n",
    "    size = len(a)\n",
    "    a = np.array(a, float)\n",
    "    # Criando uma matriz L de zeros\n",
    "    L = np.array([[0]*size for i in range(size)], float)\n",
    "\n",
    "    for j in range(size): #Observacao por coluna\n",
    "        for i in range(j, size):\n",
    "            if i == j:  # Se o elemento esta na diagonal principal\n",
    "                # Obedecendo o algoritmo de Cholesky\n",
    "                somak = sum(L[i, k]**2 for k in range(j))\n",
    "                L[i, j] = sqrt(a[i, j] - somak)\n",
    "            else:\n",
    "                somak = sum(L[i, k]*L[j, k] for k in range(j))\n",
    "                L[i, j] = (a[i, j] - somak)/L[j, j]\n",
    "\n",
    "    # Se temos L, e possivel encontrar U atraves da transposta de L\n",
    "    U = np.array([[L[j, i] for j in range(size)]\n",
    "                  for i in range(size)], float)  # Fazendo transposta de L\n",
    "    return L, U"
   ]
  },
  {
   "cell_type": "code",
   "execution_count": 24,
   "metadata": {},
   "outputs": [],
   "source": [
    "def find_x(L,U,b):\n",
    "    #FORWARD SUBSTITUTION \n",
    "    # [L]y = {B}\n",
    "    size = len(b)\n",
    "    y = np.array([[0] for i in range(size)], float) #inicializacao de Y (matriz composta de 0s)\n",
    "    for i in range(size):\n",
    "        somaj = sum(L[i,j] * y[j] for j in range(i))\n",
    "        y[i] = (b[i] - somaj)/L[i,i]\n",
    "    #BACKWARD SUBSTITUTION\n",
    "    # [U]{x} = y\n",
    "    x = np.array([[0] for i in range(size)], float) #inicializacao de X\n",
    "    for i in range(size-1,-1,-1):\n",
    "        somaj = sum(U[i,j]*x[j] for j in range(i+1,size))\n",
    "        x[i] = (y[i] - somaj)/U[i,i]\n",
    "    return x"
   ]
  },
  {
   "cell_type": "code",
   "execution_count": 4,
   "metadata": {},
   "outputs": [],
   "source": [
    "def determinante(a):\n",
    "    \"\"\"Decompoe a matriz 'a' em LU e usa-se a propriedade det(A*B) = det(A)*det(B)\"\"\"\n",
    "    L,U,_ = fact_lu(a)\n",
    "    det = 1\n",
    "    for i in range(len(a)):\n",
    "        det*=U[i,i] \n",
    "    return det\n",
    "        # Como o determinante de uma matriz triangular e o produto de sua diagonal principal,\n",
    "        # L tendo diagonal composta de 1's, det(a) sera igual ao produto dos elementos da \n",
    "        # diagonal principal de U \n",
    "        "
   ]
  },
  {
   "cell_type": "code",
   "execution_count": 5,
   "metadata": {},
   "outputs": [],
   "source": [
    "def cholesky_findx(a,b):\n",
    "\n",
    "    try:\n",
    "        L,U = cholesky_decomp(a)\n",
    "    except Exception:\n",
    "        print(\"Por favor, garanta que sua matriz seja positiva definida e simetrica\")\n",
    "        return\n",
    "    size = len(b)\n",
    "    b = np.array(b,float)\n",
    "        \n",
    "    return find_x(L,U,b)\n",
    "    "
   ]
  },
  {
   "cell_type": "code",
   "execution_count": 6,
   "metadata": {},
   "outputs": [],
   "source": [
    "def fact_lu(a,b=None):\n",
    "    \n",
    "    #if singular(a):\n",
    "        #return nao e possivel realizar a decomposicao pois a matriz e singular\n",
    "    size = len(a)\n",
    "    a = np.array(a, float)\n",
    "    if b:\n",
    "        existe_b=True\n",
    "        b = np.array(b, float)\n",
    "    else:\n",
    "        existe_b=False\n",
    "    L = np.array([[0]*size for i in range(size)], float)\n",
    "    U = a  # Inicializando U como a ja que U possui elementos de a\n",
    "\n",
    "    # PIVOTAMENTO\n",
    "    for k in range(size-1):\n",
    "        if abs(a[k, k]) < 1.0e-11:\n",
    "            for i in range(k+1, size):\n",
    "                if abs(a[i, k]) > abs(a[k, k]):\n",
    "                    a[[k, i]] = a[[i, k]] #Trocando linhas de lugar\n",
    "                    if existe_b:\n",
    "                        b[[k,i]] = b[[i,k]]\n",
    "                    break\n",
    "\n",
    "    # Definindo diagonal principal da matriz L\n",
    "    for i in range(size):\n",
    "        L[i, i] = 1\n",
    "\n",
    "    for k in range(size): # Definindo L e U\n",
    "        for i in range(k+1, size):\n",
    "            fator = a[i, k]/a[k, k]\n",
    "            L[i, k] = fator\n",
    "\n",
    "            for j in range(size):\n",
    "                a[i, j] = a[i, j] - fator*a[k, j]\n",
    "                U[i, j] = a[i, j]\n",
    "                \n",
    "    \n",
    "    x = None # Caso a funcao seja utilizada apenas para fazer a decomposicao\n",
    "    if existe_b: #Caso a funcao seja utilizada para resolver sistemas\n",
    "        x = find_x(L,U,b)\n",
    "\n",
    "    return L, U, x\n"
   ]
  },
  {
   "cell_type": "code",
   "execution_count": 7,
   "metadata": {},
   "outputs": [],
   "source": [
    "h = [[5,-4,1,0],\n",
    "     [-4,6,-4,1],\n",
    "     [1,-4,6,-4],\n",
    "     [0,1,-4,5]]\n",
    "b = [[-1],\n",
    "    [2],\n",
    "    [1],\n",
    "    [3]]"
   ]
  },
  {
   "cell_type": "markdown",
   "metadata": {},
   "source": [
    "## Exercicio 5\n"
   ]
  },
  {
   "cell_type": "code",
   "execution_count": 8,
   "metadata": {},
   "outputs": [],
   "source": [
    "A = [[19,9,8,7,6,5,4,3,2,1],\n",
    "    [9,17,9,8,7,6,5,4,3,2],\n",
    "    [8,9,18,9,8,7,6,5,4,3],\n",
    "    [7,8,9,19,9,8,7,6,5,4],\n",
    "    [6,7,8,9,18,9,8,7,6,5],\n",
    "    [5,6,7,8,9,17,9,8,7,6],\n",
    "    [4,5,6,7,8,9,16,9,8,7],\n",
    "    [3,4,5,6,7,8,9,15,9,8],\n",
    "    [2,3,4,5,6,7,8,9,14,9],\n",
    "    [1,2,3,4,5,6,7,8,9,13]]\n",
    "b=[[4],\n",
    "  [0],\n",
    "  [8],\n",
    "  [0],\n",
    "  [12],\n",
    "  [0],\n",
    "  [8],\n",
    "  [0],\n",
    "  [4],\n",
    "  [0]]"
   ]
  },
  {
   "cell_type": "code",
   "execution_count": 9,
   "metadata": {
    "scrolled": false
   },
   "outputs": [
    {
     "data": {
      "text/plain": [
       "array([[ 0.12520609],\n",
       "       [-0.4269184 ],\n",
       "       [ 0.50530635],\n",
       "       [-0.43511744],\n",
       "       [ 0.90690005],\n",
       "       [-0.53710601],\n",
       "       [ 0.69185056],\n",
       "       [-0.51087001],\n",
       "       [ 0.42961414],\n",
       "       [-0.38316953]])"
      ]
     },
     "execution_count": 9,
     "metadata": {},
     "output_type": "execute_result"
    }
   ],
   "source": [
    "cholesky_findx(A,b)"
   ]
  },
  {
   "cell_type": "code",
   "execution_count": 10,
   "metadata": {
    "scrolled": false
   },
   "outputs": [
    {
     "data": {
      "text/plain": [
       "array([[ 0.12520609],\n",
       "       [-0.4269184 ],\n",
       "       [ 0.50530635],\n",
       "       [-0.43511744],\n",
       "       [ 0.90690005],\n",
       "       [-0.53710601],\n",
       "       [ 0.69185056],\n",
       "       [-0.51087001],\n",
       "       [ 0.42961414],\n",
       "       [-0.38316953]])"
      ]
     },
     "execution_count": 10,
     "metadata": {},
     "output_type": "execute_result"
    }
   ],
   "source": [
    "_,_,x = fact_lu(A,b)\n",
    "x"
   ]
  },
  {
   "cell_type": "code",
   "execution_count": 11,
   "metadata": {
    "scrolled": false
   },
   "outputs": [
    {
     "data": {
      "text/plain": [
       "26441350592.000034"
      ]
     },
     "execution_count": 11,
     "metadata": {},
     "output_type": "execute_result"
    }
   ],
   "source": [
    "determinante(A)"
   ]
  },
  {
   "cell_type": "code",
   "execution_count": null,
   "metadata": {},
   "outputs": [],
   "source": []
  },
  {
   "cell_type": "code",
   "execution_count": null,
   "metadata": {},
   "outputs": [],
   "source": []
  },
  {
   "cell_type": "code",
   "execution_count": 12,
   "metadata": {
    "scrolled": true
   },
   "outputs": [
    {
     "data": {
      "text/plain": [
       "'Encontra x a partir da substituicao direta e a retrosubstituicao.\\n   Se temos [L][U]{x} = {B}, podemos definir [U]{x} como y, entao temos [L]y = {B}, onde sera possivel achar y.\\n   Apos encontrar y, como definimos [U]{x} como y, pode-se encontrar x atraves da retro-substituicao em [U]{x} \\n   = y\\n   '"
      ]
     },
     "execution_count": 12,
     "metadata": {},
     "output_type": "execute_result"
    }
   ],
   "source": [
    "    '''Encontra x a partir da substituicao direta e a retrosubstituicao.\n",
    "       Se temos [L][U]{x} = {B}, podemos definir [U]{x} como y, entao temos [L]y = {B}, onde sera possivel achar y.\n",
    "       Apos encontrar y, como definimos [U]{x} como y, pode-se encontrar x atraves da retro-substituicao em [U]{x} \n",
    "       = y\n",
    "       '''"
   ]
  },
  {
   "cell_type": "code",
   "execution_count": 42,
   "metadata": {},
   "outputs": [],
   "source": [
    "def jacobi(a, b, iteration_limit=100, tolerancia=1.0e-4):\n",
    "    size = len(b)\n",
    "    a = np.array(a, float)\n",
    "    b = np.array(b, float)\n",
    "    x = np.array([[1]]*size, float)\n",
    "    xnew = np.array([[0]]*size, float)\n",
    "\n",
    "    for i in range(size):\n",
    "        if (abs(a[i, i]) < sum(abs(a[i, j]) for j in range(size) if j != i)) or (abs(a[i, i]) < sum(abs(a[j, i]) for j in range(size) if j != i)):\n",
    "            print(\"condicao de convergencia nao obedecida. A matriz deve ser diagonal dominante!\")\n",
    "            return -1\n",
    "\n",
    "    for iteration in range(iteration_limit):\n",
    "        print(f'iteration: {iteration+1} \\n X atual = {x}')\n",
    "        convergencia = True\n",
    "        for i in range(size):\n",
    "            somaj = 0\n",
    "            for j in range(size):\n",
    "                if j != i:\n",
    "                    somaj += a[i, j]*x[j]\n",
    "            # somaj = sum(a[i, j]*x[j] for j in range(size) if j != i)\n",
    "            xnew[i] = (b[i] - somaj)/a[i, i]\n",
    "\n",
    "        # R = sqrt(sum((xnew[i]-x[i])**2 for i in range(size))\n",
    "        #          )/sqrt(sum(xnew[i]**2 for i in range(size)))\n",
    "\n",
    "        R = sqrt(sum((xnew[i] - x[i])**2 for i in range(size))\n",
    "                 )/sqrt(sum(xnew[i]**2 for i in range(size)))\n",
    "        print(R)\n",
    "        if R > tolerancia:\n",
    "            convergencia = False\n",
    "\n",
    "        if convergencia:\n",
    "            print('CONVERGEEE!')\n",
    "            print(xnew)\n",
    "            return xnew\n",
    "\n",
    "        x = np.copy(xnew)\n",
    "\n",
    "    print('Nao foi possivel alcancar convergencia com o limite de iteracoes escolhido.')\n",
    "    return\n",
    "\n"
   ]
  },
  {
   "cell_type": "code",
   "execution_count": 43,
   "metadata": {},
   "outputs": [
    {
     "name": "stdout",
     "output_type": "stream",
     "text": [
      "iteration: 1 \n",
      " X atual = [[1.]\n",
      " [1.]\n",
      " [1.]]\n",
      "2.1602468994692865\n",
      "iteration: 2 \n",
      " X atual = [[-0.33333333]\n",
      " [-0.66666667]\n",
      " [ 0.66666667]]\n",
      "1.8470962903655976\n",
      "iteration: 3 \n",
      " X atual = [[0.77777778]\n",
      " [0.11111111]\n",
      " [0.11111111]]\n",
      "1.1723513052572545\n",
      "iteration: 4 \n",
      " X atual = [[ 0.25925926]\n",
      " [-0.81481481]\n",
      " [ 0.37037037]]\n",
      "0.8495599540234572\n",
      "iteration: 5 \n",
      " X atual = [[ 0.87654321]\n",
      " [-0.38271605]\n",
      " [ 0.0617284 ]]\n",
      "0.5555437305700694\n",
      "iteration: 6 \n",
      " X atual = [[ 0.58847737]\n",
      " [-0.89711934]\n",
      " [ 0.20576132]]\n",
      "0.3966815366363666\n",
      "iteration: 7 \n",
      " X atual = [[ 0.93141289]\n",
      " [-0.65706447]\n",
      " [ 0.03429355]]\n",
      "0.27557107564502803\n",
      "iteration: 8 \n",
      " X atual = [[ 0.77137631]\n",
      " [-0.94284408]\n",
      " [ 0.11431184]]\n",
      "0.19987899982749294\n",
      "iteration: 9 \n",
      " X atual = [[ 0.96189605]\n",
      " [-0.80948026]\n",
      " [ 0.01905197]]\n",
      "0.14351236793227498\n",
      "iteration: 10 \n",
      " X atual = [[ 0.87298684]\n",
      " [-0.96824671]\n",
      " [ 0.06350658]]\n",
      "0.10530892163224558\n",
      "iteration: 11 \n",
      " X atual = [[ 0.97883114]\n",
      " [-0.8941557 ]\n",
      " [ 0.01058443]]\n",
      "0.07692457713226675\n",
      "iteration: 12 \n",
      " X atual = [[ 0.92943713]\n",
      " [-0.98235928]\n",
      " [ 0.03528143]]\n",
      "0.05683565640258332\n",
      "iteration: 13 \n",
      " X atual = [[ 0.98823952]\n",
      " [-0.94119761]\n",
      " [ 0.00588024]]\n",
      "0.04189849075413717\n",
      "iteration: 14 \n",
      " X atual = [[ 0.96079841]\n",
      " [-0.9901996 ]\n",
      " [ 0.0196008 ]]\n",
      "0.031077019393679586\n",
      "iteration: 15 \n",
      " X atual = [[ 0.9934664 ]\n",
      " [-0.96733201]\n",
      " [ 0.0032668 ]]\n",
      "0.023023417505355172\n",
      "iteration: 16 \n",
      " X atual = [[ 0.97822134]\n",
      " [-0.99455533]\n",
      " [ 0.01088933]]\n",
      "0.017114043532395658\n",
      "iteration: 17 \n",
      " X atual = [[ 0.99637022]\n",
      " [-0.98185111]\n",
      " [ 0.00181489]]\n",
      "0.01271339048829012\n",
      "iteration: 18 \n",
      " X atual = [[ 0.98790074]\n",
      " [-0.99697519]\n",
      " [ 0.00604963]]\n",
      "0.009461689431311425\n",
      "iteration: 19 \n",
      " X atual = [[ 0.99798346]\n",
      " [-0.98991729]\n",
      " [ 0.00100827]]\n",
      "0.007039252870310667\n",
      "iteration: 20 \n",
      " X atual = [[ 0.99327819]\n",
      " [-0.99831955]\n",
      " [ 0.0033609 ]]\n",
      "0.005242344049419933\n",
      "iteration: 21 \n",
      " X atual = [[ 9.98879698e-01]\n",
      " [-9.94398492e-01]\n",
      " [ 5.60150779e-04]]\n",
      "0.003903393383440234\n",
      "iteration: 22 \n",
      " X atual = [[ 0.99626566]\n",
      " [-0.99906642]\n",
      " [ 0.00186717]]\n",
      "0.0029080600942642445\n",
      "iteration: 23 \n",
      " X atual = [[ 9.99377610e-01]\n",
      " [-9.96888051e-01]\n",
      " [ 3.11194877e-04]]\n",
      "0.002166302274463216\n",
      "iteration: 24 \n",
      " X atual = [[ 0.99792537]\n",
      " [-0.99948134]\n",
      " [ 0.00103732]]\n",
      "0.0016142477433885793\n",
      "iteration: 25 \n",
      " X atual = [[ 9.99654228e-01]\n",
      " [-9.98271140e-01]\n",
      " [ 1.72886043e-04]]\n",
      "0.0012028076785508123\n",
      "iteration: 26 \n",
      " X atual = [[ 9.98847426e-01]\n",
      " [-9.99711857e-01]\n",
      " [ 5.76286810e-04]]\n",
      "0.0008963907634837137\n",
      "iteration: 27 \n",
      " X atual = [[ 9.99807904e-01]\n",
      " [-9.99039522e-01]\n",
      " [ 9.60478017e-05]]\n",
      "0.0006680125451039489\n",
      "iteration: 28 \n",
      " X atual = [[ 9.99359681e-01]\n",
      " [-9.99839920e-01]\n",
      " [ 3.20159339e-04]]\n",
      "0.0004978673038191184\n",
      "iteration: 29 \n",
      " X atual = [[ 9.99893280e-01]\n",
      " [-9.99466401e-01]\n",
      " [ 5.33598898e-05]]\n",
      "0.00037105207051688267\n",
      "iteration: 30 \n",
      " X atual = [[ 9.99644267e-01]\n",
      " [-9.99911067e-01]\n",
      " [ 1.77866299e-04]]\n",
      "0.00027655358680827685\n",
      "iteration: 31 \n",
      " X atual = [[ 9.99940711e-01]\n",
      " [-9.99703556e-01]\n",
      " [ 2.96443832e-05]]\n",
      "0.00020611966940835418\n",
      "iteration: 32 \n",
      " X atual = [[ 9.99802371e-01]\n",
      " [-9.99950593e-01]\n",
      " [ 9.88146108e-05]]\n",
      "0.00015362873555919632\n",
      "iteration: 33 \n",
      " X atual = [[ 9.99967062e-01]\n",
      " [-9.99835309e-01]\n",
      " [ 1.64691018e-05]]\n",
      "0.00011450464112145024\n",
      "iteration: 34 \n",
      " X atual = [[ 9.99890206e-01]\n",
      " [-9.99972551e-01]\n",
      " [ 5.48970060e-05]]\n",
      "8.534554912242738e-05\n",
      "CONVERGEEE!\n",
      "[[ 9.99981701e-01]\n",
      " [-9.99908505e-01]\n",
      " [ 9.14950100e-06]]\n"
     ]
    },
    {
     "data": {
      "text/plain": [
       "array([[ 9.99981701e-01],\n",
       "       [-9.99908505e-01],\n",
       "       [ 9.14950100e-06]])"
      ]
     },
     "execution_count": 43,
     "metadata": {},
     "output_type": "execute_result"
    }
   ],
   "source": [
    "H = [[3,2,0],[2,3,-1],[0,-1,3]]\n",
    "Y = [[1], [-1], [1]]\n",
    "jacobi(H,Y)"
   ]
  },
  {
   "cell_type": "code",
   "execution_count": 15,
   "metadata": {},
   "outputs": [],
   "source": [
    "def seidel(a, b, iter_limit=100, tolerancia=1.0e-4):\n",
    "    size = len(b)\n",
    "    a = np.array(a, float)\n",
    "    b = np.array(b, float)\n",
    "    x = np.array([[1]]*size, float)\n",
    "\n",
    "    for i in range(size):\n",
    "        if (abs(a[i, i]) < sum(abs(a[i, j]) for j in range(size) if j != i)) or (abs(a[i, i]) < sum(abs(a[j, i]) for j in range(size) if j != i)):\n",
    "            print(\n",
    "                \"condicao de convergencia nao obedecida. A matriz deve ser diagonal dominante!\")\n",
    "            return -1\n",
    "\n",
    "    for iteration in range(iter_limit):\n",
    "        convergencia = True\n",
    "        tmp = np.copy(x)\n",
    "        print(f'Iteracao: {iteration}\\n X atual: {x}')\n",
    "        for i in range(size):\n",
    "            somaj = sum(a[i, j]*x[j]for j in range(size) if j != i)\n",
    "            x[i] = (b[i] - somaj)/a[i, i]\n",
    "\n",
    "        R = sqrt(sum((x[i] - tmp[i])**2 for i in range(size))\n",
    "                 )/sqrt(sum(x[i]**2 for i in range(size)))\n",
    "\n",
    "        if R > tolerancia:\n",
    "            convergencia = False\n",
    "\n",
    "        if convergencia:\n",
    "            print('CONVERGE')\n",
    "            return x\n",
    "\n"
   ]
  }
 ],
 "metadata": {
  "kernelspec": {
   "display_name": "Python 3",
   "language": "python",
   "name": "python3"
  },
  "language_info": {
   "codemirror_mode": {
    "name": "ipython",
    "version": 3
   },
   "file_extension": ".py",
   "mimetype": "text/x-python",
   "name": "python",
   "nbconvert_exporter": "python",
   "pygments_lexer": "ipython3",
   "version": "3.7.7"
  }
 },
 "nbformat": 4,
 "nbformat_minor": 4
}
